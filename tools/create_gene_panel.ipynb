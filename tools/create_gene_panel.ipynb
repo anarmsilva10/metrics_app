{
 "cells": [
  {
   "cell_type": "markdown",
   "metadata": {},
   "source": [
    "# Extraction of Gene Panels from the Genetic Testing Registry (GTR)\n",
    "\n",
    "This notebook demonstrates how to extract gene information from NCBI’s **Genetic Testing Registry (GTR)** using a predefined list of test identifiers (IDs).  \n",
    "Each test ID corresponds to a **gene panel** associated with a specific disease.\n",
    "\n",
    "The objective is to automate the retrieval of genes from GTR and save them in a structured JSON format for further analysis."
   ]
  },
  {
   "cell_type": "markdown",
   "metadata": {},
   "source": [
    "## Obtaining GTR Test Identifiers\n",
    "\n",
    "Before executing the notebook, a text file containing GTR test identifiers must be created.  \n",
    "Each line in the file should contain a single GTR test ID.  \n",
    "\n",
    "The following steps describe how to obtain these identifiers:\n",
    "\n",
    "1. **Identify the MeSH ID for the disease**\n",
    "   - Access the [MeSH Database](https://www.ncbi.nlm.nih.gov/mesh).\n",
    "   - Search for the desired disease (e.g., \"breast cancer\").\n",
    "   - Record the **MeSH ID** listed in the entry (for breast cancer, the MeSH ID is `D001943`).\n",
    "\n",
    "2. **Locate related panels in MedGen**\n",
    "   - Visit [MedGen](https://www.ncbi.nlm.nih.gov/medgen).\n",
    "   - Search using the MeSH ID (e.g., `D001943`).\n",
    "   - On the disease page, navigate to the section titled **Genetic Testing Registry (GTR)** .\n",
    "\n",
    "3. **Collect GTR Test IDs**\n",
    "   - In the GTR section, each linked test corresponds to a genetic panel.\n",
    "   - Click on a test name (e.g., \"Breast/Gyn Cancer Panel\"); the URL will include the test ID, for example:  \n",
    "     `https://www.ncbi.nlm.nih.gov/gtr/tests/569831/` → Test ID: `569831`.\n",
    "\n",
    "4. **Create the input file**\n",
    "   - Create a file named `gene_panels_ids.txt`.\n",
    "   - Add one ID per line, for example:\n",
    "     ```\n",
    "     569831\n",
    "     560453\n",
    "     600459\n",
    "     ```\n",
    "   - Save the file in the `tools/` directory so that the full path is `tools/gene_panels_ids.txt`."
   ]
  },
  {
   "cell_type": "code",
   "execution_count": 2,
   "metadata": {},
   "outputs": [
    {
     "name": "stderr",
     "output_type": "stream",
     "text": [
      "2025-10-21 14:01:23 — ERROR — create_gene_panel — Failed to parse data for test ID: 569831. Error: expected string or bytes-like object, got 'NoneType'\n",
      "2025-10-21 14:01:24 — INFO — create_gene_panel — Retrieved 23 genes for Gene Panel: Renal_Cancer__Gene_Sequencing_Panel.json\n",
      "2025-10-21 14:01:24 — INFO — create_gene_panel — Retrieved 99 genes for Gene Panel: Myeloid_Tumor_Panel.json\n"
     ]
    }
   ],
   "source": [
    "# Step 1: Import fetch_gene_panels from create_gene_panel.py\n",
    "from create_gene_panel import fetch_gene_panels\n",
    "\n",
    "# Step 2: Define input file with test IDs and output directory\n",
    "\n",
    "PANELS_FILE = \"gene_panels_ids.txt\"\n",
    "PANELS_IDs = [\"569831\", \"560453\", \"600459\"]\n",
    "\n",
    "with open(PANELS_FILE, 'w') as f:\n",
    "    for panel_id in PANELS_IDs:\n",
    "        f.write(f\"{panel_id}\\n\")\n",
    "\n",
    "OUTPUT_DIR = \"../data/gene_panels\"\n",
    "\n",
    "# Step 3: Fetch gene panels using fetch_gene_panels()\n",
    "\n",
    "fetch_gene_panels(PANELS_FILE, OUTPUT_DIR)"
   ]
  },
  {
   "cell_type": "markdown",
   "metadata": {},
   "source": [
    "## Results\n",
    "\n",
    "Each gene panel retrieved from GTR is saved as a `.json` file within the `data/gene_panels/` directory.\n",
    "\n",
    "Each file contains:\n",
    "- The list of genes associated with a single GTR test.\n",
    "- The data organized in a format suitable for downstream analysis or integration into larger bioinformatics workflows.\n"
   ]
  }
 ],
 "metadata": {
  "kernelspec": {
   "display_name": "base",
   "language": "python",
   "name": "python3"
  },
  "language_info": {
   "codemirror_mode": {
    "name": "ipython",
    "version": 3
   },
   "file_extension": ".py",
   "mimetype": "text/x-python",
   "name": "python",
   "nbconvert_exporter": "python",
   "pygments_lexer": "ipython3",
   "version": "3.12.9"
  }
 },
 "nbformat": 4,
 "nbformat_minor": 2
}
